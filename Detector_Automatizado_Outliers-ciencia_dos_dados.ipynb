{
 "cells": [
  {
   "cell_type": "markdown",
   "metadata": {},
   "source": [
    "<font  size=\"5\" color=\"green\"><strong>DETECTOR AUTOMATIZADO DE OUTLIERS - ciência dos dados</strong></font>\n",
    "\n",
    "Tutorial for improve skills: 'DETECTOR AUTOMATIZADO DE OUTLIERS' (from ciência dos dados) by Marcus Mariano\n",
    "\n",
    "**For more information about Marcus Mariano: [Web site](https://marcusmariano.github.io/mmariano/)**  \n",
    "\n",
    "**DETECTOR AUTOMATIZADO DE OUTLIERS: ciência dos dados [YouTube](https://www.youtube.com/watch?v=WH6_pWe2_r0&t=52s)** \n"
   ]
  },
  {
   "cell_type": "markdown",
   "metadata": {
    "id": "A1eaRA1fD2PW"
   },
   "source": [
    "![alt text](https://encrypted-tbn0.gstatic.com/images?q=tbn%3AANd9GcTK4gQ9nhwHHaSXMHpeggWg7twwMCgb877smkRmtkmDeDoGF9Z6&usqp=CAU)\n",
    "# <font color='Green'>Dicas e Truques de Ciência de Dados</font>\n",
    "\n",
    "# <font color='BLUE'> Detecção de Outliers</font>\n",
    "\n",
    "![](http://justoutsidetheboxcartoon.com/wp-content/uploads/2017/10/The-outlier-6001.gif)"
   ]
  },
  {
   "cell_type": "markdown",
   "metadata": {
    "id": "WjAmcpVg5dwG"
   },
   "source": [
    "![](https://media.giphy.com/media/Q8DKTx3CIBMQ0WBaog/giphy.gif)"
   ]
  },
  {
   "cell_type": "markdown",
   "metadata": {
    "id": "n4ypsymA-mdQ"
   },
   "source": [
    "# Um outlier é uma terminologia comumente usada por analistas e cientistas de dados porque requer atenção especial, caso contrário, pode levar a estimativas totalmente erradas."
   ]
  },
  {
   "cell_type": "markdown",
   "metadata": {
    "id": "7G_9RP24-nPn"
   },
   "source": [
    "#A  detecção de valores discrepantes é uma observação que parece muito distante e diverge de um padrão geral em uma amostra."
   ]
  },
  {
   "cell_type": "markdown",
   "metadata": {
    "id": "et7tEEYP52Uh"
   },
   "source": [
    "![](https://www.itl.nist.gov/div898/handbook/prc/section1/prc16_r01.gif)"
   ]
  },
  {
   "cell_type": "markdown",
   "metadata": {
    "id": "mFega6Mm-nTZ"
   },
   "source": [
    "# Um outlier é uma observação numericamente distante do resto dos dados ou, em poucas palavras, é o valor que está fora do intervalo."
   ]
  },
  {
   "cell_type": "markdown",
   "metadata": {
    "id": "l0v6oHit6DJa"
   },
   "source": [
    "![](http://playfairdata.com/wp-content/uploads/2021/08/How-and-Why-to-Make-Box-Plots-in-Tableau.gif)"
   ]
  },
  {
   "cell_type": "markdown",
   "metadata": {
    "id": "a6Jc_0Or-nWF"
   },
   "source": [
    "![](https://cienciadosdados.com/images/2021/Thumbs/Outliers.png)"
   ]
  },
  {
   "cell_type": "markdown",
   "metadata": {
    "id": "bYzjioBU-nYn"
   },
   "source": [
    "Como você pode ver, o conjunto de dados com valores discrepantes tem uma média e um desvio padrão significativamente diferentes. No primeiro cenário, diremos que a média é 3,14. Mas com o outlier, a média sobe para 59,71. Isso mudaria completamente a estimativa."
   ]
  },
  {
   "cell_type": "markdown",
   "metadata": {
    "id": "Rsnt3df7-nbL"
   },
   "source": [
    "Vamos dar um exemplo concreto de um outlier. Em uma empresa de 50 funcionários, 45 pessoas com um salário mensal de Rs. 6.000, 5 idosos com um salário mensal de Rs. 100000 cada. Se você calcular o salário médio mensal dos funcionários da empresa é de 14.500 rúpias, o que vai te dar uma má conclusão.\n",
    "\n",
    "\n",
    "Mas se você pegar o salário médio, é Rs.6000, que é mais sensível do que a média. Por esse motivo, a mediana é uma medida apropriada para a média. Aqui você pode ver o efeito de um outlier.\n",
    "\n",
    "![](https://miro.medium.com/max/602/1*E1YMlWSYsNvWsm5JLkH1Ag.jpeg)\n",
    "\n",
    "\n",
    "Agora, vamos dar uma olhada rápida nas principais causas de valores discrepantes antes de começar a tarefa de detecção de valores discrepantes:"
   ]
  },
  {
   "cell_type": "markdown",
   "metadata": {
    "id": "OvM2xkNJ-nd-"
   },
   "source": [
    "Erros de entrada de dados: \n",
    "\n",
    "* erros humanos, como erros causados ​​durante a coleta, registro ou entrada de dados, podem causar discrepâncias nos dados.\n",
    "\n",
    "* Erros de medição: é a fonte mais comum de outliers. Isso ocorre quando o instrumento de medição usado apresenta defeito.\n",
    "\n",
    "* Outliers naturais: quando um outlier não é artificial (devido a erro), é um outlier natural. A maioria dos dados do mundo real pertence a esta categoria."
   ]
  },
  {
   "cell_type": "markdown",
   "metadata": {
    "id": "wDO-tXKrB7UJ"
   },
   "source": [
    "## Detecção de outlier em aprendizado de máquina usando teste de hipóteses\n",
    "![](https://lh3.googleusercontent.com/proxy/AJ7OJEHOufzWGs8Aixt3axJRImJBx6gNyl2adYkS9lMF_1SwKFZOk8ZZiiv6b1OB1xalb8TRI7c7kHfk4F1PXHjPYrq2hQr3WcnKJZ0tFzdHvAqgpAxG-4DW_5eYM3ezvEna8WakRMzdAp7DYxw3VyooryOz3oLlePrFUTMhkDZu7d0)"
   ]
  },
  {
   "cell_type": "markdown",
   "metadata": {
    "id": "9c2xRu9YB7Wp"
   },
   "source": [
    "Um outlier pode ser de dois tipos: univariado e multivariado. Acima, discutimos o exemplo de um outlier univariado. Esses outliers podem ser encontrados quando olhamos para a distribuição de uma única variável. Outliers multivariados são outliers em um espaço n-dimensional.\n",
    "\n",
    "O **teste de hipóteses** é uma técnica comum para detectar outliers no aprendizado de máquina. O teste de hipótese é um método de testar uma afirmação ou hipótese sobre um parâmetro em uma população, usando dados medidos em uma amostra. \n",
    "\n",
    "Nesse método, testamos uma hipótese determinando a probabilidade de que uma estatística amostral pudesse ter sido selecionada, se a hipótese sobre o parâmetro populacional fosse verdadeira."
   ]
  },
  {
   "cell_type": "markdown",
   "metadata": {
    "id": "YwI3eSgEB7aR"
   },
   "source": [
    "O objetivo do teste de hipótese é determinar a probabilidade de que um parâmetro populacional, como a média, seja verdadeiro. Existem quatro etapas no teste de hipótese:"
   ]
  },
  {
   "cell_type": "markdown",
   "metadata": {
    "id": "fx1loYleB7dQ"
   },
   "source": [
    "1. Declare as suposições.\n",
    "2. Defina os critérios para uma decisão.\n",
    "3. Calcule a estatística de teste.\n",
    "4. Tomar uma decisão."
   ]
  },
  {
   "cell_type": "markdown",
   "metadata": {
    "id": "TSaLAK9I8pY2"
   },
   "source": [
    "# Pilares da Ciência Moderna\n",
    "![](https://techcrunch.com/wp-content/uploads/2019/11/spacex-starlink-lift-off.gif?w=680) \n",
    "\n",
    "![](https://thumbs.gfycat.com/DisloyalFaintAmericanmarten-max-1mb.gif)"
   ]
  },
  {
   "cell_type": "markdown",
   "metadata": {
    "id": "qByECeXmCX0u"
   },
   "source": [
    "## Um dos principais problemas do aprendizado de máquina é um outlier. Se você negligenciar os valores discrepantes nos dados, isso resultará no baixo desempenho do seu modelo de aprendizado de máquina, da sua Máquina Preditiva. \n",
    "\n"
   ]
  },
  {
   "cell_type": "markdown",
   "metadata": {
    "id": "y5O-I3B2DvUr"
   },
   "source": [
    "![](https://cienciadosdados.com/images/2021/Thumbs/Grubbs.png)"
   ]
  },
  {
   "cell_type": "markdown",
   "metadata": {
    "id": "JJ_jM3fx7xR-"
   },
   "source": [
    "### 1. Importação dos Pacotes"
   ]
  },
  {
   "cell_type": "code",
   "execution_count": 1,
   "metadata": {
    "id": "MB_H4w8K87kx"
   },
   "outputs": [],
   "source": [
    "import numpy as np\n",
    "import scipy.stats as stats"
   ]
  },
  {
   "cell_type": "markdown",
   "metadata": {
    "id": "Hw16Df2S71gu"
   },
   "source": [
    "### 2. Criando 2 variáveis (x e y) só para testar"
   ]
  },
  {
   "cell_type": "code",
   "execution_count": 9,
   "metadata": {
    "id": "1ooYMaVNDV7a"
   },
   "outputs": [],
   "source": [
    "x = np.array([12,13,14,19,21,23,405])"
   ]
  },
  {
   "cell_type": "code",
   "execution_count": 10,
   "metadata": {
    "id": "sfiurgjfDes7"
   },
   "outputs": [],
   "source": [
    "y = np.array([12,13,14,19,21,23,405])"
   ]
  },
  {
   "cell_type": "markdown",
   "metadata": {
    "id": "iKSPxOQ88GDJ"
   },
   "source": [
    "### 3. Criando um Detector de Outliers"
   ]
  },
  {
   "cell_type": "code",
   "execution_count": 11,
   "metadata": {
    "colab": {
     "base_uri": "https://localhost:8080/"
    },
    "id": "eBhdUv22DXKU",
    "outputId": "c78f7d35-e519-4d07-c14b-daf71124295f"
   },
   "outputs": [
    {
     "name": "stdout",
     "output_type": "stream",
     "text": [
      "Grubbs Valor Calculado: 2.4484842768384905\n",
      "Grubbs Valor Crítico: 2.019968507680656\n",
      "Para a Variável Y , observamos que o valor calculado é MAIOR que o valor Crítico. Confirmamos a Hipótese de que HÁ outliers\n",
      "\n",
      "Grubbs Valor Calculado: 2.4484842768384905\n",
      "Grubbs Valor Crítico: 2.019968507680656\n",
      "Para a Variável Y , observamos que o valor calculado é MAIOR que o valor Crítico. Confirmamos a Hipótese de que HÁ outliers\n",
      "\n"
     ]
    }
   ],
   "source": [
    "def outliers_test(x):\n",
    "\n",
    "    ################################################\n",
    "    n = len(x)\n",
    "\n",
    "    mean_x = np.mean(x)\n",
    "\n",
    "    sd_x = np.std(x)\n",
    "\n",
    "    numerator = max(abs(x-mean_x))\n",
    "\n",
    "    g_calculated = numerator/sd_x\n",
    "\n",
    "\n",
    "    ### Valor Calculado\n",
    "    print(\"Grubbs Valor Calculado:\", g_calculated)\n",
    "\n",
    "    ################################################\n",
    "\n",
    "    # Teste \"T\"\n",
    "    t_value = stats.t.ppf(1 - 0.05 / (2 * n), n - 2)\n",
    "\n",
    "\n",
    "    # Fórmula de Grubbs\n",
    "    g_critical = ((n - 1) * np.sqrt(np.square(t_value))) / (np.sqrt(n) * np.sqrt(n - 2 + np.square(t_value)))\n",
    "\n",
    "\n",
    "    ### Valor Crítico\n",
    "    print(\"Grubbs Valor Crítico:\", g_critical)\n",
    "    \n",
    "    \n",
    "    \n",
    "    ################################################\n",
    "\n",
    "    # Avaliando o Resultado do Teste de Grubbs para confirmar se pode existir Outliers\n",
    "    if g_critical > g_calculated:\n",
    "       print(\"Para a Variável X , observamos que o valor calculado é menor que o valor Crítico. Aceitamos a Hipótese de que NÃO há outliers\\n\")\n",
    "    else:\n",
    "       print(\"Para a Variável Y , observamos que o valor calculado é MAIOR que o valor Crítico. Confirmamos a Hipótese de que HÁ outliers\\n\")\n",
    "\n",
    "\n",
    "\n",
    "\n",
    "outliers_test(x)\n",
    "outliers_test(y)"
   ]
  },
  {
   "cell_type": "markdown",
   "metadata": {
    "id": "SLF6vuqmxTUL"
   },
   "source": [
    "#Fim"
   ]
  },
  {
   "cell_type": "markdown",
   "metadata": {
    "id": "_fHqFSvWe94c"
   },
   "source": [
    "## Valeu!"
   ]
  },
  {
   "cell_type": "markdown",
   "metadata": {
    "id": "_2DT4SBZRDP-"
   },
   "source": [
    "### # Onde me Encontrar - Ciência dos Dados <a href=\"https://linktr.ee/cienciadosdados\">https://linktr.ee/cienciadosdados</a>"
   ]
  },
  {
   "cell_type": "code",
   "execution_count": null,
   "metadata": {
    "colab": {
     "base_uri": "https://localhost:8080/",
     "height": 401
    },
    "id": "_pg8zEm-Nv6Y",
    "outputId": "3dafa4f8-557b-44c4-dda7-5bcb8736e515"
   },
   "outputs": [
    {
     "data": {
      "text/html": [
       "<iframe width=\"600\" height=\"380\" src=\"https://www.youtube.com/embed/npOQwX2QCbw\" title=\"YouTube video player\" frameborder=\"0\" allow=\"accelerometer; autoplay; clipboard-write; encrypted-media; gyroscope; picture-in-picture\" allowfullscreen></iframe>"
      ],
      "text/plain": [
       "<IPython.core.display.HTML object>"
      ]
     },
     "execution_count": 2,
     "metadata": {
      "tags": []
     },
     "output_type": "execute_result"
    }
   ],
   "source": [
    "from IPython.core.display import HTML\n",
    "HTML('<iframe width=\"600\" height=\"380\" src=\"https://www.youtube.com/embed/npOQwX2QCbw\" title=\"YouTube video player\" frameborder=\"0\" allow=\"accelerometer; autoplay; clipboard-write; encrypted-media; gyroscope; picture-in-picture\" allowfullscreen></iframe>')"
   ]
  }
 ],
 "metadata": {
  "colab": {
   "collapsed_sections": [
    "iKSPxOQ88GDJ"
   ],
   "name": "Detecção de Outliers em Machine Learning.ipynb",
   "provenance": []
  },
  "kernelspec": {
   "display_name": "Python 3 (ipykernel)",
   "language": "python",
   "name": "python3"
  },
  "language_info": {
   "codemirror_mode": {
    "name": "ipython",
    "version": 3
   },
   "file_extension": ".py",
   "mimetype": "text/x-python",
   "name": "python",
   "nbconvert_exporter": "python",
   "pygments_lexer": "ipython3",
   "version": "3.9.7"
  },
  "toc": {
   "base_numbering": 1,
   "nav_menu": {},
   "number_sections": true,
   "sideBar": true,
   "skip_h1_title": false,
   "title_cell": "Table of Contents",
   "title_sidebar": "Contents",
   "toc_cell": false,
   "toc_position": {},
   "toc_section_display": true,
   "toc_window_display": false
  }
 },
 "nbformat": 4,
 "nbformat_minor": 4
}
